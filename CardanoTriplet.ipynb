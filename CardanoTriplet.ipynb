{
 "cells": [
  {
   "cell_type": "markdown",
   "metadata": {},
   "source": [
    "Trying a very basic approach:"
   ]
  },
  {
   "cell_type": "code",
   "execution_count": 25,
   "metadata": {},
   "outputs": [],
   "source": [
    "import numpy as np\n",
    "import math"
   ]
  },
  {
   "cell_type": "code",
   "execution_count": 37,
   "metadata": {},
   "outputs": [],
   "source": [
    "def is_cardano_triplet(a, b, c):\n",
    "    l = (a + b * (c)**(1/2))**(1/3)\n",
    "    print(f\"l = {l}\")\n",
    "    r = (a - b * (c)**(1/2))**(1/3)\n",
    "    print(f\"r = {r}\")\n",
    "    if l + r == 1:\n",
    "        return True\n",
    "    else:\n",
    "        return False"
   ]
  },
  {
   "cell_type": "code",
   "execution_count": 40,
   "metadata": {},
   "outputs": [
    {
     "name": "stdout",
     "output_type": "stream",
     "text": [
      "l = 0.0\n",
      "r = 0.0\n"
     ]
    },
    {
     "data": {
      "text/plain": [
       "False"
      ]
     },
     "execution_count": 40,
     "metadata": {},
     "output_type": "execute_result"
    }
   ],
   "source": [
    "is_cardano_triplet(0, 0, 1)"
   ]
  },
  {
   "cell_type": "markdown",
   "metadata": {},
   "source": [
    "We need to find an efficient way of solving this problem so that it takes less time. We need to understand some of the math behind these triplets in order to do so.\n",
    "\n",
    "Cardano's Formula says:\n",
    "\n",
    "Let x^3 + px = q. Then, x = u - v, where u^3 - v^3 = q and 3uv = p\n",
    "\n",
    "The solution to the cubic of this form is of the form:\n",
    "\n",
    "cbrt(q/2 + sqrt((q/2)^2 + (p/3)^3)) + cbrt(q/2) - sqrt(q/2)^2 + (p/3)^3))\n",
    "\n",
    "How does this relate to the triplets? The cardano triplets are a special case of roots of a cubic equation.\n",
    "\n",
    "cbrt(a + b(sqrt(c))) + cbrt(a - b(sqrt(c))) == 1\n",
    "\n",
    "If we compare the solution to the cubic equation and the equation of the Cardano triplets, we can see that:\n",
    "a = q/2 which means that q must be even since a is an integer.\n",
    "\n",
    "b(sqrt(c)) = sqrt((q/2)^2 + (p/3)^3) and therefore b*c^2 = (q/2)^2 + (p/3)^3\n",
    "\n",
    "This tells us that p needs to be divisible by 3 since b*c^2 is an integer and thus p/3 needs to be an integer since q/2 is an integer when q is even.\n",
    "\n",
    "We now are dealing with\n",
    "x^3 + px - 2a = 0 since a = q/2\n",
    "\n",
    "Now we are basically looking for the coefficients of x^3 + px - 2a = 0 that have 1 as a root. Why is 1 the root? Because we are comparing the Cardano triplet equality, which is equal to 1, to the expression that finds roots of a cubic equation of a specific form. Since the Cardano triplet expression is equal to 1, a root of this cubic is 1.\n",
    "\n",
    "We can then substitute 1 in for x:\n",
    "\n",
    "1 + p - 2a = 0 \n",
    "\n",
    "is now what we are solving for.\n",
    "\n",
    "We know that b*c^2 = (a)^2 + (p/3)^3 and therefore we can introduce a variable u = p/3 to make this simpler:\n",
    "\n",
    "1 + 3u - 2a = 0\n",
    "\n",
    "and we know that b*c^2 = (a)^2 + (u)^3\n",
    "\n"
   ]
  },
  {
   "cell_type": "markdown",
   "metadata": {},
   "source": [
    "we are given a, b, and c. we know that u^3 = b*c^2 - a^2, and so we can solve for the value of u. we know that if 1 + 3u - 2a = 0, we have a Cardano triplet."
   ]
  },
  {
   "cell_type": "code",
   "execution_count": 66,
   "metadata": {},
   "outputs": [],
   "source": [
    "def efficient_cardano_triplet(a, b, c):\n",
    "    ucubed = b*(c**2) - a**2\n",
    "    #print(f\"ucubed = {ucubed}\")\n",
    "    u = ucubed ** (1/3)\n",
    "    #print( f\"u = {u}\")\n",
    "    if 1 + 3*u -2*a == 0:\n",
    "        return True\n",
    "    else:\n",
    "        return False\n"
   ]
  },
  {
   "cell_type": "code",
   "execution_count": 67,
   "metadata": {},
   "outputs": [
    {
     "data": {
      "text/plain": [
       "True"
      ]
     },
     "execution_count": 67,
     "metadata": {},
     "output_type": "execute_result"
    }
   ],
   "source": [
    "efficient_cardano_triplet(2, 5, 1)"
   ]
  },
  {
   "cell_type": "code",
   "execution_count": null,
   "metadata": {},
   "outputs": [],
   "source": []
  },
  {
   "cell_type": "code",
   "execution_count": 68,
   "metadata": {},
   "outputs": [
    {
     "name": "stdout",
     "output_type": "stream",
     "text": [
      "3\n"
     ]
    }
   ],
   "source": []
  },
  {
   "cell_type": "code",
   "execution_count": 50,
   "metadata": {},
   "outputs": [
    {
     "name": "stdout",
     "output_type": "stream",
     "text": [
      "ucubed = 2679\n",
      "u = 13.888571251995003\n"
     ]
    },
    {
     "data": {
      "text/plain": [
       "False"
      ]
     },
     "execution_count": 50,
     "metadata": {},
     "output_type": "execute_result"
    }
   ],
   "source": [
    "efficient_cardano_triplet(5, 1, 52)"
   ]
  },
  {
   "cell_type": "markdown",
   "metadata": {},
   "source": [
    "https://www.youtube.com/watch?v=35CUGKB4DrQ"
   ]
  },
  {
   "cell_type": "markdown",
   "metadata": {},
   "source": [
    "### other"
   ]
  },
  {
   "cell_type": "markdown",
   "metadata": {},
   "source": [
    "we know that a = b^3 - c from manipulation of the formula."
   ]
  },
  {
   "cell_type": "code",
   "execution_count": 59,
   "metadata": {},
   "outputs": [],
   "source": [
    "def check_cardano_triplet(a, b, c):\n",
    "    if a != b ** 3 - c:\n",
    "        print(\"The initial condition is not met\")\n",
    "        return False\n",
    "    l = math.cbrt(a + b * math.sqrt(c))\n",
    "    print(l)\n",
    "    r = math.cbrt(a - b * math.sqrt(c))\n",
    "    print(r)\n",
    "    if l + r == 1:\n",
    "        return True\n",
    "    return False"
   ]
  },
  {
   "cell_type": "code",
   "execution_count": 65,
   "metadata": {},
   "outputs": [
    {
     "name": "stdout",
     "output_type": "stream",
     "text": [
      "The initial condition is not met\n"
     ]
    },
    {
     "data": {
      "text/plain": [
       "False"
      ]
     },
     "execution_count": 65,
     "metadata": {},
     "output_type": "execute_result"
    }
   ],
   "source": [
    "check_cardano_triplet(2, 5, 1)"
   ]
  },
  {
   "cell_type": "code",
   "execution_count": null,
   "metadata": {},
   "outputs": [],
   "source": [
    "#this does not seem to be working?"
   ]
  },
  {
   "cell_type": "markdown",
   "metadata": {},
   "source": [
    "### new formula\n",
    "\n",
    "the equation of cardano triplets can be manipulated to:\n",
    "8a^3 + 15a^2 + 6a - 27cb^2 = 1"
   ]
  },
  {
   "cell_type": "code",
   "execution_count": 69,
   "metadata": {},
   "outputs": [],
   "source": [
    "def are_cardano_triplets(a, b, c):\n",
    "    if 8*a**3 + 15*a**2 + 6*a - 27*c*b**2 == 1:\n",
    "        return True\n",
    "    return False"
   ]
  },
  {
   "cell_type": "code",
   "execution_count": 72,
   "metadata": {},
   "outputs": [
    {
     "data": {
      "text/plain": [
       "True"
      ]
     },
     "execution_count": 72,
     "metadata": {},
     "output_type": "execute_result"
    }
   ],
   "source": [
    "are_cardano_triplets(2, 1, 5)"
   ]
  },
  {
   "cell_type": "code",
   "execution_count": 75,
   "metadata": {},
   "outputs": [
    {
     "ename": "KeyboardInterrupt",
     "evalue": "",
     "output_type": "error",
     "traceback": [
      "\u001b[0;31m---------------------------------------------------------------------------\u001b[0m",
      "\u001b[0;31mKeyboardInterrupt\u001b[0m                         Traceback (most recent call last)",
      "Cell \u001b[0;32mIn[75], line 9\u001b[0m\n\u001b[1;32m      7\u001b[0m     \u001b[38;5;28;01mfor\u001b[39;00m b \u001b[38;5;129;01min\u001b[39;00m \u001b[38;5;28mrange\u001b[39m(\u001b[38;5;241m1\u001b[39m, n\u001b[38;5;241m-\u001b[39ma):\n\u001b[1;32m      8\u001b[0m         \u001b[38;5;28;01mfor\u001b[39;00m c \u001b[38;5;129;01min\u001b[39;00m \u001b[38;5;28mrange\u001b[39m(\u001b[38;5;241m5\u001b[39m, n\u001b[38;5;241m-\u001b[39ma\u001b[38;5;241m-\u001b[39mb):\n\u001b[0;32m----> 9\u001b[0m             \u001b[38;5;28;01mif\u001b[39;00m are_cardano_triplets(a, b, c):\n\u001b[1;32m     10\u001b[0m                 x \u001b[38;5;241m=\u001b[39m x \u001b[38;5;241m+\u001b[39m \u001b[38;5;241m1\u001b[39m\n\u001b[1;32m     11\u001b[0m \u001b[38;5;28mprint\u001b[39m(x)\n",
      "\u001b[0;31mKeyboardInterrupt\u001b[0m: "
     ]
    }
   ],
   "source": [
    "#now we check how many cardano triplets there are\n",
    "#we know the first triplet is (2, 1, 5) so these can be our lower bounds\n",
    "#we are also substracting a and b so that the equality a + b + c <= n is satisfied\n",
    "n = 5000\n",
    "x = 0\n",
    "for a in range(2, n):\n",
    "    for b in range(1, n-a):\n",
    "        for c in range(5, n-a-b):\n",
    "            if are_cardano_triplets(a, b, c):\n",
    "                x = x + 1\n",
    "print(x)\n"
   ]
  },
  {
   "cell_type": "markdown",
   "metadata": {},
   "source": [
    "sources:\n",
    "\n",
    "https://engineering.purdue.edu/~mark/twc-148-2.pdf\n",
    "\n",
    "ChatGPT"
   ]
  },
  {
   "cell_type": "code",
   "execution_count": null,
   "metadata": {},
   "outputs": [],
   "source": []
  }
 ],
 "metadata": {
  "kernelspec": {
   "display_name": "Python 3",
   "language": "python",
   "name": "python3"
  },
  "language_info": {
   "codemirror_mode": {
    "name": "ipython",
    "version": 3
   },
   "file_extension": ".py",
   "mimetype": "text/x-python",
   "name": "python",
   "nbconvert_exporter": "python",
   "pygments_lexer": "ipython3",
   "version": "3.12.0"
  }
 },
 "nbformat": 4,
 "nbformat_minor": 2
}
