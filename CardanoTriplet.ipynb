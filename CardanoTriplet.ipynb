{
 "cells": [
  {
   "cell_type": "markdown",
   "metadata": {},
   "source": [
    "Trying a very basic approach:"
   ]
  },
  {
   "cell_type": "code",
   "execution_count": 9,
   "metadata": {},
   "outputs": [],
   "source": [
    "import numpy as np"
   ]
  },
  {
   "cell_type": "code",
   "execution_count": 20,
   "metadata": {},
   "outputs": [],
   "source": [
    "def is_cardano_triplet(ls):\n",
    "    a = ls[0]\n",
    "    b = ls[1]\n",
    "    c = ls[2]\n",
    "    if (a < 0) or (b < 0) or (c < 0):\n",
    "        return False\n",
    "    l = (a + b * (c)**(1/2))**(1/3)\n",
    "    print(l)\n",
    "    r = (a - b * (c)**(1/2))**(1/3)\n",
    "    print(r)\n",
    "    if l+r == 1:\n",
    "        return True\n",
    "    else:\n",
    "        print(\"nothing\")"
   ]
  },
  {
   "cell_type": "code",
   "execution_count": 24,
   "metadata": {},
   "outputs": [
    {
     "name": "stdout",
     "output_type": "stream",
     "text": [
      "1.912931182772389\n",
      "1.4422495703074083\n",
      "nothing\n"
     ]
    }
   ],
   "source": [
    "is_cardano_triplet([5, 2, 1])"
   ]
  },
  {
   "cell_type": "markdown",
   "metadata": {},
   "source": [
    "We need to find a more efficient way of solving this problem so that it takes less time. We need to understand some of the math behind these triplets in order to do so."
   ]
  },
  {
   "cell_type": "code",
   "execution_count": null,
   "metadata": {},
   "outputs": [],
   "source": []
  },
  {
   "cell_type": "markdown",
   "metadata": {},
   "source": [
    "We can expand the cardano triplet expression to get something that may be easier to compute than square roots.\n",
    "the final expansion results in\n",
    "\n",
    "8a^3 +15a^2 +6a−27cb^2 = 1\n",
    "\n",
    "source: https://engineering.purdue.edu/~mark/twc-148-2.pdf\n"
   ]
  }
 ],
 "metadata": {
  "kernelspec": {
   "display_name": "Python 3",
   "language": "python",
   "name": "python3"
  },
  "language_info": {
   "codemirror_mode": {
    "name": "ipython",
    "version": 3
   },
   "file_extension": ".py",
   "mimetype": "text/x-python",
   "name": "python",
   "nbconvert_exporter": "python",
   "pygments_lexer": "ipython3",
   "version": "3.12.0"
  }
 },
 "nbformat": 4,
 "nbformat_minor": 2
}
