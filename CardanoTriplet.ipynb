{
 "cells": [
  {
   "cell_type": "markdown",
   "metadata": {},
   "source": [
    "Trying a very basic approach:"
   ]
  },
  {
   "cell_type": "code",
   "execution_count": 25,
   "metadata": {},
   "outputs": [],
   "source": [
    "import numpy as np\n",
    "import math"
   ]
  },
  {
   "cell_type": "code",
   "execution_count": 35,
   "metadata": {},
   "outputs": [],
   "source": [
    "def is_cardano_triplet(a, b, c):\n",
    "    l = (a + b * (c)**(1/2))**(1/3)\n",
    "    print(f\"l = {l}\")\n",
    "    r = (a - b * (c)**(1/2))**(1/3)\n",
    "    print(f\"r = {r}\")\n",
    "    try:\n",
    "        math.isclose(l+r, 1)\n",
    "    except TypeError:\n",
    "        print(\"You have complex numbers present in the root\")\n",
    "    else:\n",
    "        return True"
   ]
  },
  {
   "cell_type": "code",
   "execution_count": 36,
   "metadata": {},
   "outputs": [
    {
     "name": "stdout",
     "output_type": "stream",
     "text": [
      "l = 1.2599210498948732\n",
      "r = 0.0\n"
     ]
    },
    {
     "data": {
      "text/plain": [
       "True"
      ]
     },
     "execution_count": 36,
     "metadata": {},
     "output_type": "execute_result"
    }
   ],
   "source": [
    "is_cardano_triplet(1, 1, 1)"
   ]
  },
  {
   "cell_type": "markdown",
   "metadata": {},
   "source": [
    "We need to find a more efficient way of solving this problem so that it takes less time. We need to understand some of the math behind these triplets in order to do so.\n",
    "\n",
    "Cardano's Formula says:\n",
    "\n",
    "Let x^3 + px = q. Then, x = u - v, where u^3 - v^3 = q and 3uv = p\n",
    "\n",
    "The solution to the cubic of this form is of the form:\n",
    "\n",
    "da da da\n",
    "\n",
    "How does this relate to the triplets?\n"
   ]
  },
  {
   "cell_type": "code",
   "execution_count": null,
   "metadata": {},
   "outputs": [],
   "source": []
  },
  {
   "cell_type": "markdown",
   "metadata": {},
   "source": [
    "We can expand the cardano triplet expression to get something that may be easier to compute than square roots.\n",
    "the final expansion results in\n",
    "\n",
    "8a^3 +15a^2 +6a−27cb^2 = 1\n",
    "\n",
    "source: https://engineering.purdue.edu/~mark/twc-148-2.pdf\n"
   ]
  }
 ],
 "metadata": {
  "kernelspec": {
   "display_name": "Python 3",
   "language": "python",
   "name": "python3"
  },
  "language_info": {
   "codemirror_mode": {
    "name": "ipython",
    "version": 3
   },
   "file_extension": ".py",
   "mimetype": "text/x-python",
   "name": "python",
   "nbconvert_exporter": "python",
   "pygments_lexer": "ipython3",
   "version": "3.12.0"
  }
 },
 "nbformat": 4,
 "nbformat_minor": 2
}
