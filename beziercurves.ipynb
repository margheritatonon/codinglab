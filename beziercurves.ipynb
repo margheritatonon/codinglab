{
 "cells": [
  {
   "cell_type": "markdown",
   "metadata": {},
   "source": [
    "p0 = (1, 0)\n",
    "\n",
    "p1 = (1, v)\n",
    "\n",
    "p2 = (v, 1)\n",
    "\n",
    "p3 = (0, 1)"
   ]
  },
  {
   "cell_type": "code",
   "execution_count": 2,
   "metadata": {},
   "outputs": [],
   "source": [
    "def bezier(ls_pts, t):\n",
    "    #initializing p0, p1, p2, p3\n",
    "    p0 = ls_pts[0]\n",
    "    p1 = ls_pts[1]\n",
    "    p2 = ls_pts[2]\n",
    "    p3 = ls_pts[3]\n",
    "    #defining the bezier curve\n",
    "    b = p0*((1-t)**3) + p1*3*t*((1-t)**2) + p2*3*(1-t)*(t**2) + p3*(t**3)\n"
   ]
  },
  {
   "cell_type": "code",
   "execution_count": 3,
   "metadata": {},
   "outputs": [],
   "source": [
    "def length_of_curve(curve):\n",
    "    pass"
   ]
  },
  {
   "cell_type": "code",
   "execution_count": null,
   "metadata": {},
   "outputs": [],
   "source": [
    "def area_of_curve(curve):\n",
    "    pass"
   ]
  }
 ],
 "metadata": {
  "kernelspec": {
   "display_name": "Python 3",
   "language": "python",
   "name": "python3"
  },
  "language_info": {
   "codemirror_mode": {
    "name": "ipython",
    "version": 3
   },
   "file_extension": ".py",
   "mimetype": "text/x-python",
   "name": "python",
   "nbconvert_exporter": "python",
   "pygments_lexer": "ipython3",
   "version": "3.12.0"
  }
 },
 "nbformat": 4,
 "nbformat_minor": 2
}
