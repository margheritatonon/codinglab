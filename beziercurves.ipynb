{
 "cells": [
  {
   "cell_type": "code",
   "execution_count": 4,
   "metadata": {},
   "outputs": [],
   "source": [
    "import numpy as np"
   ]
  },
  {
   "cell_type": "markdown",
   "metadata": {},
   "source": [
    "p0 = (1, 0)\n",
    "\n",
    "p1 = (1, v)\n",
    "\n",
    "p2 = (v, 1)\n",
    "\n",
    "p3 = (0, 1)"
   ]
  },
  {
   "cell_type": "code",
   "execution_count": 5,
   "metadata": {},
   "outputs": [],
   "source": [
    "def bezier(ls_pts, t):\n",
    "    #initializing p0, p1, p2, p3\n",
    "    p0 = ls_pts[0]\n",
    "    p1 = ls_pts[1]\n",
    "    p2 = ls_pts[2]\n",
    "    p3 = ls_pts[3]\n",
    "    #defining the bezier curve\n",
    "    b = p0*((1-t)**3) + p1*3*t*((1-t)**2) + p2*3*(1-t)*(t**2) + p3*(t**3) #how is this going to work if p0 is a tuple and not a single pt\n",
    "    return b\n"
   ]
  },
  {
   "cell_type": "code",
   "execution_count": null,
   "metadata": {},
   "outputs": [],
   "source": [
    "#functions that will help find v as an approximation of a quarter of a circle:"
   ]
  },
  {
   "cell_type": "code",
   "execution_count": 6,
   "metadata": {},
   "outputs": [],
   "source": [
    "import scipy.integrate as integrate"
   ]
  },
  {
   "cell_type": "code",
   "execution_count": 3,
   "metadata": {},
   "outputs": [],
   "source": [
    "def length_of_curve(curve):\n",
    "    #curve is bezier(ls_pts, t)\n",
    "    pass"
   ]
  },
  {
   "cell_type": "code",
   "execution_count": 7,
   "metadata": {},
   "outputs": [],
   "source": [
    "def area_of_curve(curve, ls_pts):\n",
    "    #the area needs to be EQUAL to pi/4\n",
    "    #area under a curve is an integral...\n",
    "    result = integrate.quad(curve, 0, 1)\n",
    "    return result"
   ]
  },
  {
   "cell_type": "code",
   "execution_count": null,
   "metadata": {},
   "outputs": [],
   "source": []
  }
 ],
 "metadata": {
  "kernelspec": {
   "display_name": "Python 3",
   "language": "python",
   "name": "python3"
  },
  "language_info": {
   "codemirror_mode": {
    "name": "ipython",
    "version": 3
   },
   "file_extension": ".py",
   "mimetype": "text/x-python",
   "name": "python",
   "nbconvert_exporter": "python",
   "pygments_lexer": "ipython3",
   "version": "3.12.0"
  }
 },
 "nbformat": 4,
 "nbformat_minor": 2
}
