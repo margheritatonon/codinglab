{
 "cells": [
  {
   "cell_type": "markdown",
   "metadata": {},
   "source": [
    "this is a notebook that I used to plan out what we could do when considering the curl and divergence of a vector field at a point. However, we were not really able to implement this approach."
   ]
  },
  {
   "cell_type": "code",
   "execution_count": 3,
   "metadata": {},
   "outputs": [],
   "source": [
    "from vectorfield import VectorField, circular, bam, vf1, vf2, vf3, vf4, vf5, vf6, vf7"
   ]
  },
  {
   "cell_type": "code",
   "execution_count": 4,
   "metadata": {},
   "outputs": [
    {
     "name": "stdout",
     "output_type": "stream",
     "text": [
      "circular 2.0\n",
      "circular 1.9999999998354667\n",
      "bam 0.0\n",
      "bam 0.0\n",
      "vf1 0.0\n",
      "vf1 0.0\n",
      "vf2 0.0\n",
      "vf2 0.0\n",
      "vf3 0.0\n",
      "vf3 0.0\n",
      "vf4 0.0\n",
      "vf4 0.0\n",
      "vf5 0.0\n",
      "vf5 0.0\n",
      "vf6 0.9999999999998334\n",
      "vf6 0.5403018851213304\n"
     ]
    }
   ],
   "source": [
    "xgoal = -2\n",
    "ygoal = -2\n",
    "circ = VectorField(circular)\n",
    "print(\"circular\", circ.curl(0, 0))\n",
    "print(\"circular\", circ.curl(1, 1))\n",
    "\n",
    "bam = VectorField(bam)\n",
    "print(\"bam\", bam.curl(0, 0))\n",
    "print(\"bam\", bam.curl(1, 1))\n",
    "\n",
    "vf1 = VectorField(vf1)\n",
    "print(\"vf1\", vf1.curl(0, 0))\n",
    "print(\"vf1\", vf1.curl(1, 1))\n",
    "\n",
    "vf2 = VectorField(vf2)\n",
    "print(\"vf2\", vf2.curl(0, 0))\n",
    "print(\"vf2\", vf2.curl(1, 1))\n",
    "\n",
    "vf3 = VectorField(vf3)\n",
    "print(\"vf3\", vf3.curl(0, 0))\n",
    "print(\"vf3\", vf3.curl(1, 1))\n",
    "\n",
    "vf4 = VectorField(vf4)\n",
    "print(\"vf4\", vf4.curl(0, 0))\n",
    "print(\"vf4\", vf4.curl(1, 1))\n",
    "\n",
    "vf5 = VectorField(vf5)\n",
    "print(\"vf5\", vf5.curl(0, 0))\n",
    "print(\"vf5\", vf5.curl(1, 1))\n",
    "\n",
    "vf6 = VectorField(vf6)\n",
    "print(\"vf6\", vf6.curl(0, 0))\n",
    "print(\"vf6\", vf6.curl(1, 1))"
   ]
  },
  {
   "cell_type": "code",
   "execution_count": null,
   "metadata": {},
   "outputs": [],
   "source": [
    "#the curl is greater than 0 in circular and vf6.\n",
    "#this means that the behaviour around 0,0 and 1,1 is rotational."
   ]
  },
  {
   "cell_type": "code",
   "execution_count": 10,
   "metadata": {},
   "outputs": [
    {
     "name": "stdout",
     "output_type": "stream",
     "text": [
      "circular 0.0\n",
      "circular 0.0\n",
      "bam 0.9999994999553831\n",
      "bam -0.3011693697763107\n",
      "vf1 -2.0\n",
      "vf1 -1.9999999998354667\n",
      "vf2 2.0\n",
      "vf2 1.9999999998354667\n",
      "vf3 0.0\n",
      "vf3 0.0\n",
      "vf4 2.0\n",
      "vf4 2.000000000279556\n",
      "vf5 1.9999999999998335\n",
      "vf5 1.5403018850390637\n",
      "vf6 1.0\n",
      "vf6 0.9999999999177334\n",
      "vf7 -1.9999999998354667\n",
      "vf7 -2.0\n"
     ]
    }
   ],
   "source": [
    "#looking at the divergence\n",
    "#when divergence is 0, that means there is the same amount of stuff going in and same stuff going out.\n",
    "print(\"circular\", circ.divergence(0, 0))\n",
    "print(\"circular\", circ.divergence(1, 1)) \n",
    "\n",
    "print(\"bam\", bam.divergence(0, 0)) #more stuff is going out than in. \n",
    "print(\"bam\", bam.divergence(1, 1)) #more stuff is going in than out. \n",
    "\n",
    "print(\"vf1\", vf1.divergence(0, 0))\n",
    "print(\"vf1\", vf1.divergence(1, 1))\n",
    "\n",
    "print(\"vf2\", vf2.divergence(0, 0))\n",
    "print(\"vf2\", vf2.divergence(1, 1))\n",
    "\n",
    "print(\"vf3\", vf3.divergence(0, 0))\n",
    "print(\"vf3\", vf3.divergence(1, 1))\n",
    "\n",
    "print(\"vf4\", vf4.divergence(0, 0))\n",
    "print(\"vf4\", vf4.divergence(1, 1))\n",
    "\n",
    "print(\"vf5\", vf5.divergence(0, 0))\n",
    "print(\"vf5\", vf5.divergence(1, 1))\n",
    "\n",
    "print(\"vf6\", vf6.divergence(0, 0))\n",
    "print(\"vf6\", vf6.divergence(1, 1))\n",
    "\n",
    "vf7 = VectorField(vf7)\n",
    "print(\"vf7\", vf7.divergence(1, 1))\n",
    "print(\"vf7\", vf7.divergence(0,0))\n"
   ]
  },
  {
   "cell_type": "markdown",
   "metadata": {},
   "source": [
    "**\"Easier\"** to move toward the gradient's direction: If the gradient points toward the **same direction** in which the vectors are converging, it might feel easier to move along the direction of the gradient because the flow is \"pulling\" you in that direction (as in a sink).\n",
    "\n",
    "**\"Harder\"** to move toward the gradient's direction: If the gradient points **against the direction** of the converging flow (i.e., the gradient points outward from the sink, and the vectors are converging inward), it could feel harder to move in the direction of the gradient because you are pushing against the flow."
   ]
  },
  {
   "cell_type": "code",
   "execution_count": 6,
   "metadata": {},
   "outputs": [],
   "source": [
    "#for all of the points with a divergence that is not 0, we want to see whether the gradient is pointing in that same direction or not.\n"
   ]
  },
  {
   "cell_type": "code",
   "execution_count": null,
   "metadata": {},
   "outputs": [],
   "source": [
    "#it depends on the value of the thrust if we can move in what direction based on the divergence at that point.\n",
    "#and the value of the gradient at the point you are at.\n",
    "#and the sign of the gradient.\n",
    "\n",
    "#we could check every combination to see what the behaviour is:\n",
    "#if the gradient is negative and the divergence is positive, and the point is x an y both negative, then easy.\n",
    "#if the gradient is negative and the divergence is positive, and the point we are at has either a positive or a negative, then hard.\n",
    "#if the gradient is negative and the divergence is negative,... etc"
   ]
  },
  {
   "cell_type": "code",
   "execution_count": 11,
   "metadata": {},
   "outputs": [],
   "source": [
    "#but this is very lengthy... so we can try a different approach."
   ]
  },
  {
   "cell_type": "code",
   "execution_count": null,
   "metadata": {},
   "outputs": [],
   "source": []
  }
 ],
 "metadata": {
  "kernelspec": {
   "display_name": "Python 3",
   "language": "python",
   "name": "python3"
  },
  "language_info": {
   "codemirror_mode": {
    "name": "ipython",
    "version": 3
   },
   "file_extension": ".py",
   "mimetype": "text/x-python",
   "name": "python",
   "nbconvert_exporter": "python",
   "pygments_lexer": "ipython3",
   "version": "3.12.0"
  }
 },
 "nbformat": 4,
 "nbformat_minor": 2
}
